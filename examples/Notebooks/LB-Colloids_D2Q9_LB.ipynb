{
 "cells": [
  {
   "cell_type": "markdown",
   "metadata": {
    "collapsed": true
   },
   "source": [
    "# LB-Colloids D2Q9 slightly lattice Boltzmann module\n",
    "\n",
    "A two dimensional, nine fluid node lattice Boltzmann implementation is include in the LB-Colloids package. This tutorial goes over the basic of how to build and run a lattice Boltzmann simulation using this implementation\n",
    "\n",
    "The first step is to set-up our work environment"
   ]
  },
  {
   "cell_type": "code",
   "execution_count": 1,
   "metadata": {},
   "outputs": [],
   "source": [
    "%matplotlib inline\n",
    "import matplotlib.pyplot as plt\n",
    "import matplotlib.image as mpimg\n",
    "import os\n",
    "from lb_colloids import LBImage, LB2DModel  # lattice Boltzmann imports from LB-Colloids\n",
    "\n",
    "workspace = os.path.join(\"..\", \"data\")\n",
    "domain = \"test_image.png\""
   ]
  },
  {
   "cell_type": "markdown",
   "metadata": {},
   "source": [
    "We can start by using the `LBImage` module to prepare our data for lattice Boltzmann models. This module contains two classes will be used:\n",
    "\n",
    "`Images` and\n",
    "`BoundaryCondition`\n",
    "\n",
    "Let's start by loading an image and viewing it with matplotlib"
   ]
  },
  {
   "cell_type": "code",
   "execution_count": 2,
   "metadata": {},
   "outputs": [
    {
     "data": {
      "text/plain": [
       "<matplotlib.image.AxesImage at 0x7f5cebad38d0>"
      ]
     },
     "execution_count": 2,
     "metadata": {},
     "output_type": "execute_result"
    },
    {
     "data": {
      "image/png": "[encoded data removed]",
      "text/plain": [
       "<Figure size 432x288 with 1 Axes>"
      ]
     },
     "metadata": {
      "needs_background": "light"
     },
     "output_type": "display_data"
    }
   ],
   "source": [
    "img = LBImage.Images(os.path.join(workspace, domain))  # load image\n",
    "\n",
    "plt.imshow(img.arr, interpolation=\"None\", cmap=\"gray\")"
   ]
  },
  {
   "cell_type": "markdown",
   "metadata": {},
   "source": [
    "After the image is loaded, it can be prepared for use in a lattice Boltzmann model using the `BoundaryCondition` class. Some inputs that are needed include:\n",
    "\n",
    "`fluidvx`: the greyscale value(s) of fluid voxels\n",
    "\n",
    "`solidvx`: the greyscale value(s) of solid voxels\n",
    "\n",
    "`nlayers`: number of boundary layers to add to the top and bottom of the domain\n",
    "\n",
    "lets find out what the greyscale values are in the image of our model domain using numpy"
   ]
  },
  {
   "cell_type": "code",
   "execution_count": 3,
   "metadata": {},
   "outputs": [
    {
     "data": {
      "text/plain": [
       "array([  0, 255])"
      ]
     },
     "execution_count": 3,
     "metadata": {},
     "output_type": "execute_result"
    }
   ],
   "source": [
    "import numpy as np\n",
    "\n",
    "np.unique(img.arr)  # zero corresponds to black, 255 corresponds to white"
   ]
  },
  {
   "cell_type": "code",
   "execution_count": 4,
   "metadata": {},
   "outputs": [
    {
     "name": "stdout",
     "output_type": "stream",
     "text": [
      "('Porosity: ', 0.400425)\n"
     ]
    }
   ],
   "source": [
    "fluidvx = [0]\n",
    "solidvx = [255]\n",
    "nlayers = 5\n",
    "\n",
    "bc = LBImage.BoundaryCondition(img.arr, fluidvx, solidvx, nlayers)"
   ]
  },
  {
   "cell_type": "markdown",
   "metadata": {},
   "source": [
    "We can now grab a binary domain, that is prepared for lattice Boltzmann models, from the `LBImage.BoundaryCondition` object"
   ]
  },
  {
   "cell_type": "code",
   "execution_count": 5,
   "metadata": {},
   "outputs": [
    {
     "data": {
      "text/plain": [
       "<matplotlib.image.AxesImage at 0x7f5ceba8dc90>"
      ]
     },
     "execution_count": 5,
     "metadata": {},
     "output_type": "execute_result"
    },
    {
     "data": {
      "image/png": "[encoded data removed]",
      "text/plain": [
       "<Figure size 432x288 with 1 Axes>"
      ]
     },
     "metadata": {
      "needs_background": "light"
     },
     "output_type": "display_data"
    }
   ],
   "source": [
    "binary = bc.binarized\n",
    "\n",
    "plt.imshow(binary, interpolation=\"None\", cmap=\"gray\")"
   ]
  },
  {
   "cell_type": "markdown",
   "metadata": {},
   "source": [
    "### Now we can parameterize a lattice Boltzmann model\n",
    "\n",
    "Lattice Boltzmann will run using a compiled and shared FORTRAN library specially made for LB-Colloids.\n",
    "\n",
    "Let's make and run a model with a basic parameterization"
   ]
  },
  {
   "cell_type": "code",
   "execution_count": 6,
   "metadata": {},
   "outputs": [],
   "source": [
    "output = \"test_image.hdf5\"\n",
    "rho = 1.  # initial non-dimensional fluid density\n",
    "body_force = 0.0001  # body force applied to the fluid domain\n",
    "tau = 1.  # relaxation time parameter\n",
    "resolution = 1e-06  # model resolution for dimensionalization\n",
    "iterations = 1000\n",
    "\n",
    "lbm = LB2DModel(binary)\n",
    "lbm.niters = iterations\n",
    "lbm.rho = rho\n",
    "lbm.body_force = body_force\n",
    "lbm.tau = tau\n",
    "lbm.resolution = resolution"
   ]
  },
  {
   "cell_type": "markdown",
   "metadata": {},
   "source": [
    "Now let's run the model while printing the iteration every 100 time steps"
   ]
  },
  {
   "cell_type": "code",
   "execution_count": 7,
   "metadata": {},
   "outputs": [
    {
     "name": "stdout",
     "output_type": "stream",
     "text": [
      "1000\n",
      "Iter: 00100\n",
      "Iter: 00200\n",
      "Iter: 00300\n",
      "Iter: 00400\n",
      "Iter: 00500\n",
      "Iter: 00600\n",
      "Iter: 00700\n",
      "Iter: 00800\n",
      "Iter: 00900\n",
      "Iter: 01000\n",
      "[Writing to: ../data/test_image.hdf5]\n"
     ]
    },
    {
     "data": {
      "text/plain": [
       "array([[[ 0.11111111,  0.0916737 ,  0.09176507, ...,  0.0982969 ,\n",
       "          0.09840651,  0.09847874],\n",
       "        [ 0.11111111,  0.09138362,  0.09157975, ...,  0.09801175,\n",
       "          0.09811831,  0.09818896],\n",
       "        [ 0.11111111,  0.09109301,  0.09153032, ...,  0.09773591,\n",
       "          0.09783551,  0.09790251],\n",
       "        ..., \n",
       "        [ 0.11111111,  0.09253305,  0.09253842, ...,  0.09921134,\n",
       "          0.09930485,  0.09936895],\n",
       "        [ 0.11111111,  0.09224675,  0.09226659, ...,  0.09889727,\n",
       "          0.09900005,  0.0990689 ],\n",
       "        [ 0.11111111,  0.09196074,  0.09200457, ...,  0.09859212,\n",
       "          0.09870046,  0.09877206]],\n",
       "\n",
       "       [[ 0.02777778,  0.02301271,  0.0229327 , ...,  0.02455104,\n",
       "          0.02459951,  0.02464232],\n",
       "        [ 0.02777778,  0.02298705,  0.02284733, ...,  0.02445378,\n",
       "          0.02451034,  0.02456307],\n",
       "        [ 0.02777778,  0.02300751,  0.02275447, ...,  0.02435938,\n",
       "          0.02442283,  0.0244848 ],\n",
       "        ..., \n",
       "        [ 0.02777778,  0.02317752,  0.02316451, ...,  0.02484559,\n",
       "          0.02486753,  0.02488211],\n",
       "        [ 0.02777778,  0.02311516,  0.02309042, ...,  0.02474847,\n",
       "          0.02477906,  0.02480222],\n",
       "        [ 0.02777778,  0.02305882,  0.0230133 , ...,  0.02464978,\n",
       "          0.0246894 ,  0.02472216]],\n",
       "\n",
       "       [[ 0.11111111,  0.09171142,  0.09153806, ...,  0.09850621,\n",
       "          0.09859987,  0.11111111],\n",
       "        [ 0.11111111,  0.09134629,  0.09109498, ...,  0.09815024,\n",
       "          0.09828296,  0.11111111],\n",
       "        [ 0.11111111,  0.09092283,  0.09059541, ...,  0.09779788,\n",
       "          0.09796944,  0.11111111],\n",
       "        ..., \n",
       "        [ 0.11111111,  0.0926629 ,  0.09263903, ...,  0.09955992,\n",
       "          0.09955623,  0.11111111],\n",
       "        [ 0.11111111,  0.09236144,  0.09230131, ...,  0.09921434,\n",
       "          0.09923793,  0.11111111],\n",
       "        [ 0.11111111,  0.09204575,  0.0919366 , ...,  0.09886207,\n",
       "          0.09891868,  0.11111111]],\n",
       "\n",
       "       ..., \n",
       "       [[ 0.11111111,  0.09204882,  0.09241864, ...,  0.09865471,\n",
       "          0.09846976,  0.11111111],\n",
       "        [ 0.11111111,  0.0922523 ,  0.09255069, ...,  0.09842499,\n",
       "          0.09820426,  0.11111111],\n",
       "        [ 0.11111111,  0.09306006,  0.09269702, ...,  0.09819039,\n",
       "          0.09793863,  0.11111111],\n",
       "        ..., \n",
       "        [ 0.11111111,  0.09247302,  0.09260793, ...,  0.09934807,\n",
       "          0.0992796 ,  0.11111111],\n",
       "        [ 0.11111111,  0.09225963,  0.09246898, ...,  0.09911264,\n",
       "          0.09900599,  0.11111111],\n",
       "        [ 0.11111111,  0.09209895,  0.09239666, ...,  0.09888273,\n",
       "          0.0987365 ,  0.11111111]],\n",
       "\n",
       "       [[ 0.02777778,  0.02282452,  0.02303626, ...,  0.02464734,\n",
       "          0.0246368 ,  0.02460984],\n",
       "        [ 0.02777778,  0.02270563,  0.02311774, ...,  0.02460013,\n",
       "          0.02458062,  0.02454367],\n",
       "        [ 0.02777778,  0.02254138,  0.02338936, ...,  0.02455213,\n",
       "          0.02452377,  0.02447756],\n",
       "        ..., \n",
       "        [ 0.02777778,  0.02308909,  0.02312012, ...,  0.02479908,\n",
       "          0.02481077,  0.02481237],\n",
       "        [ 0.02777778,  0.02300834,  0.02306979, ...,  0.02474541,\n",
       "          0.02475095,  0.02474382],\n",
       "        [ 0.02777778,  0.02292175,  0.02303559, ...,  0.02469527,\n",
       "          0.02469326,  0.02467643]],\n",
       "\n",
       "       [[ 0.44444445,  0.36688739,  0.36697406, ...,  0.3940632 ,\n",
       "          0.39403787,  0.44444445],\n",
       "        [ 0.44444445,  0.36593634,  0.36600992, ...,  0.39290142,\n",
       "          0.39287713,  0.44444445],\n",
       "        [ 0.44444445,  0.36525539,  0.36516041, ...,  0.39175013,\n",
       "          0.39172807,  0.44444445],\n",
       "        ..., \n",
       "        [ 0.44444445,  0.3701528 ,  0.37018853, ...,  0.39761257,\n",
       "          0.39759225,  0.44444445],\n",
       "        [ 0.44444445,  0.36903656,  0.36908659, ...,  0.39641911,\n",
       "          0.39639592,  0.44444445],\n",
       "        [ 0.44444445,  0.36794049,  0.36800939, ...,  0.39523587,\n",
       "          0.39521086,  0.44444445]]], dtype=float32)"
      ]
     },
     "execution_count": 7,
     "metadata": {},
     "output_type": "execute_result"
    }
   ],
   "source": [
    "lbm.run(os.path.join(workspace, output), verbose=100)"
   ]
  },
  {
   "cell_type": "markdown",
   "metadata": {},
   "source": [
    "### We can use built in methodology to view the results of our simulation\n",
    "\n",
    "The `Colloid_output` module contains a number of classes to view results from Lattice Boltzmann and Colloid simulations\n",
    "\n",
    "Let's start by importing this module"
   ]
  },
  {
   "cell_type": "code",
   "execution_count": 8,
   "metadata": {},
   "outputs": [],
   "source": [
    "from lb_colloids import ColloidOutput"
   ]
  },
  {
   "cell_type": "markdown",
   "metadata": {},
   "source": [
    "The two important classes in ColloidOutput for lattice Boltzmann simulations are `LBOutput` and `ModelPlot`.\n",
    "\n",
    "Let's get our model results loaded using `LBOutput` and check what data we can access"
   ]
  },
  {
   "cell_type": "code",
   "execution_count": 9,
   "metadata": {},
   "outputs": [
    {
     "data": {
      "text/plain": [
       "['reynolds_number',\n",
       " 'porosity',\n",
       " 'velocity_x',\n",
       " 'velocity_y',\n",
       " 'lb_velocity_x',\n",
       " 'lb_velocity_y',\n",
       " 'conversion_factor',\n",
       " 'resolution',\n",
       " 'pore_diameter']"
      ]
     },
     "execution_count": 9,
     "metadata": {},
     "output_type": "execute_result"
    }
   ],
   "source": [
    "lbout = ColloidOutput.LBOutput(os.path.join(workspace, output))\n",
    "lbout.keys"
   ]
  },
  {
   "cell_type": "markdown",
   "metadata": {},
   "source": [
    "The `get_data` method allows us to dynamically access the data stored in output files"
   ]
  },
  {
   "cell_type": "code",
   "execution_count": 10,
   "metadata": {},
   "outputs": [
    {
     "data": {
      "text/plain": [
       "(2.2180399478043191, 0.40042499999999998, 28.550802139037433)"
      ]
     },
     "execution_count": 10,
     "metadata": {},
     "output_type": "execute_result"
    }
   ],
   "source": [
    "cfac = lbout.get_data('conversion_factor')\n",
    "por = lbout.get_data('porosity')\n",
    "por_diam = lbout.get_data('pore_diameter')  # non-dimensional mean pore-diameter\n",
    "\n",
    "cfac, por, por_diam"
   ]
  },
  {
   "cell_type": "markdown",
   "metadata": {},
   "source": [
    "### The `ModelPlot` class allows us to visualize some of the output data\n",
    "\n",
    "Let's start by initializing the class and checking the types of data `ModelPlot` can access if it is available"
   ]
  },
  {
   "cell_type": "code",
   "execution_count": 11,
   "metadata": {},
   "outputs": [
    {
     "data": {
      "text/plain": [
       "['ac',\n",
       " 'reynolds_number',\n",
       " 'lewis_x',\n",
       " 'dlvo_x',\n",
       " 'distance_fine_x',\n",
       " 'lb_velocity_x',\n",
       " 'lb_velocity_y',\n",
       " 'image',\n",
       " 'brownian_x',\n",
       " 'lb_mean_velocity_y',\n",
       " 'lb_mean_velocity_x',\n",
       " 'edl_fine',\n",
       " 'attractive_x',\n",
       " 'attractive_y',\n",
       " 'edl_y',\n",
       " 'edl_x',\n",
       " 'velocity_x',\n",
       " 'velocity_y',\n",
       " 'col_col_y',\n",
       " 'col_col_x',\n",
       " 'lewis_y',\n",
       " 'dlvo_y',\n",
       " 'lvdw_x',\n",
       " 'distance_x',\n",
       " 'distance_y',\n",
       " 'lvdw_y',\n",
       " 'distance_fine_y',\n",
       " 'bouyancy',\n",
       " 'pore_diameter',\n",
       " 'distance_array',\n",
       " 'col_col_fine_x',\n",
       " 'brownian_y',\n",
       " 'col_col_fine',\n",
       " 'gravity',\n",
       " 'dlvo_fine',\n",
       " 'conversion_factor',\n",
       " 'col_col',\n",
       " 'distance_fine',\n",
       " 'col_col_fine_y',\n",
       " 'ionic',\n",
       " 'porosity',\n",
       " 'attractive_fine']"
      ]
     },
     "execution_count": 11,
     "metadata": {},
     "output_type": "execute_result"
    }
   ],
   "source": [
    "mplot = ColloidOutput.ModelPlot(os.path.join(workspace, output))\n",
    "mplot.keys"
   ]
  },
  {
   "cell_type": "markdown",
   "metadata": {},
   "source": [
    "Let's start by plotting the LB velocity arrays in the X and Y directions"
   ]
  },
  {
   "cell_type": "code",
   "execution_count": 12,
   "metadata": {
    "scrolled": false
   },
   "outputs": [
    {
     "data": {
      "image/png": "[encoded data removed]",
      "text/plain": [
       "<Figure size 432x288 with 2 Axes>"
      ]
     },
     "metadata": {
      "needs_background": "light"
     },
     "output_type": "display_data"
    },
    {
     "data": {
      "image/png": "[encoded data removed]",
      "text/plain": [
       "<Figure size 432x288 with 2 Axes>"
      ]
     },
     "metadata": {
      "needs_background": "light"
     },
     "output_type": "display_data"
    }
   ],
   "source": [
    "mesh = mplot.plot('lb_velocity_x', masked=True)\n",
    "plt.colorbar(mesh)\n",
    "plt.title(\"Non-dimensional velocity X\")\n",
    "plt.show()\n",
    "\n",
    "mesh2 = mplot.plot('lb_velocity_y', masked=True)\n",
    "plt.colorbar(mesh2)\n",
    "plt.title(\"Non-dimensional velocity Y\")\n",
    "plt.show()"
   ]
  },
  {
   "cell_type": "markdown",
   "metadata": {},
   "source": [
    "We can also do Quiver plots showing the velocity magnitudes!"
   ]
  },
  {
   "cell_type": "code",
   "execution_count": 17,
   "metadata": {},
   "outputs": [
    {
     "data": {
      "image/png": "[encoded data removed]",
      "text/plain": [
       "<Figure size 432x288 with 1 Axes>"
      ]
     },
     "metadata": {
      "needs_background": "light"
     },
     "output_type": "display_data"
    }
   ],
   "source": [
    "mplot.plot_velocity_magnitude(nbin=5, dimensional=False, masked=True, color=\"blue\")\n",
    "mplot.plot(\"image\", masked=True, cmap='gray')\n",
    "plt.show()"
   ]
  },
  {
   "cell_type": "markdown",
   "metadata": {},
   "source": [
    "There we go. We have a good start at running a LB modeling and visulaizing the results from it!"
   ]
  },
  {
   "cell_type": "code",
   "execution_count": null,
   "metadata": {},
   "outputs": [],
   "source": []
  }
 ],
 "metadata": {
  "kernelspec": {
   "display_name": "Python 2",
   "language": "python",
   "name": "python2"
  },
  "language_info": {
   "codemirror_mode": {
    "name": "ipython",
    "version": 2
   },
   "file_extension": ".py",
   "mimetype": "text/x-python",
   "name": "python",
   "nbconvert_exporter": "python",
   "pygments_lexer": "ipython2",
   "version": "2.7.12"
  }
 },
 "nbformat": 4,
 "nbformat_minor": 1
}
