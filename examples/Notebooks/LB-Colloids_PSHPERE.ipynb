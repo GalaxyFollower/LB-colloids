{
 "cells": [
  {
   "cell_type": "markdown",
   "metadata": {
    "collapsed": true
   },
   "source": [
    "# Penetrable-Sphere (PSHPERE):\n",
    "### A package for generating syntetic porous media\n",
    "\n",
    "This notebook illustrates the base functionality of the LB-Colloids module `PShpere`. Pshpere generates synthetic porous media and can accept a few optional parameters\n",
    "\n",
    "1st. Let's get our scripting envrionmet set up and import the `PSphere` package"
   ]
  },
  {
   "cell_type": "code",
   "execution_count": 1,
   "metadata": {},
   "outputs": [],
   "source": [
    "%matplotlib inline\n",
    "import matplotlib.pyplot as plt\n",
    "import matplotlib.image as mpimg\n",
    "import os\n",
    "from lb_colloids import PSphere\n",
    "\n",
    "workspace = os.path.join(\"..\", \"data\")"
   ]
  },
  {
   "cell_type": "markdown",
   "metadata": {},
   "source": [
    "Once PShpere is imported we can begin using it to generate synthetic porous media"
   ]
  },
  {
   "cell_type": "code",
   "execution_count": 2,
   "metadata": {},
   "outputs": [
    {
     "name": "stdout",
     "output_type": "stream",
     "text": [
      "Warning: medium porosity outside sensitivity\n",
      "0.29105\n",
      "Regenerating porous media\n",
      "Warning: medium porosity outside sensitivity\n",
      "0.427675\n",
      "Regenerating porous media\n",
      "Warning: medium porosity outside sensitivity\n",
      "0.323025\n",
      "Regenerating porous media\n",
      "Warning: medium porosity outside sensitivity\n",
      "0.344125\n",
      "Regenerating porous media\n",
      "Warning: medium porosity outside sensitivity\n",
      "0.419625\n",
      "Regenerating porous media\n",
      "Warning: medium porosity outside sensitivity\n",
      "0.3615\n",
      "Regenerating porous media\n",
      "Warning: medium porosity outside sensitivity\n",
      "0.4177\n",
      "Regenerating porous media\n",
      "Warning: medium porosity outside sensitivity\n",
      "0.43675\n",
      "Regenerating porous media\n",
      "Warning: medium porosity outside sensitivity\n",
      "0.4635\n",
      "Regenerating porous media\n",
      "Warning: medium porosity outside sensitivity\n",
      "0.451325\n",
      "Regenerating porous media\n",
      "Warning: medium porosity outside sensitivity\n",
      "0.556925\n",
      "Regenerating porous media\n",
      "0.400425\n"
     ]
    }
   ],
   "source": [
    "grain_radius = 20  # pixels\n",
    "porosity = 0.40  # cm3/cm3\n",
    "dimension = 200  # XY image dimension\n",
    "sensitivity = 0.01  # porosity tolerance\n",
    "\n",
    "psp = PSphere(radius=grain_radius, porosity=porosity, \n",
    "              dimension=dimension, sensitivity=sensitivity)"
   ]
  },
  {
   "cell_type": "markdown",
   "metadata": {},
   "source": [
    "PSphere automatically generates a porous media upon initalization!\n",
    "\n",
    "Let's look at the porous media, using matplotlib"
   ]
  },
  {
   "cell_type": "code",
   "execution_count": 3,
   "metadata": {},
   "outputs": [
    {
     "data": {
      "text/plain": [
       "<matplotlib.image.AxesImage at 0x7f70d222d110>"
      ]
     },
     "execution_count": 3,
     "metadata": {},
     "output_type": "execute_result"
    },
    {
     "data": {
      "image/png": "[encoded data removed]",
      "text/plain": [
       "<Figure size 432x288 with 1 Axes>"
      ]
     },
     "metadata": {
      "needs_background": "light"
     },
     "output_type": "display_data"
    }
   ],
   "source": [
    "matrix = psp.get_matrix()\n",
    "plt.imshow(matrix, interpolation=\"None\", cmap=\"gray\")"
   ]
  },
  {
   "cell_type": "markdown",
   "metadata": {},
   "source": [
    "We can also get some basic information about this artificial porous media using built in functions if we assign a resolution to the porous media"
   ]
  },
  {
   "cell_type": "code",
   "execution_count": 4,
   "metadata": {},
   "outputs": [
    {
     "data": {
      "text/plain": [
       "(7.801753531417438, 2053, 0.400425)"
      ]
     },
     "execution_count": 4,
     "metadata": {},
     "output_type": "execute_result"
    }
   ],
   "source": [
    "rh = PSphere.static_hydraulic_radius(matrix)\n",
    "sa = PSphere.static_surface_area(matrix)  # non-dimensional\n",
    "por = PSphere.static_porosity(matrix)\n",
    "\n",
    "rh, sa, por"
   ]
  },
  {
   "cell_type": "markdown",
   "metadata": {},
   "source": [
    "Finally, the porous media can be saved using built in fuctions"
   ]
  },
  {
   "cell_type": "code",
   "execution_count": 5,
   "metadata": {},
   "outputs": [],
   "source": [
    "psp.save_image(os.path.join(workspace, \"test_image.png\"))"
   ]
  },
  {
   "cell_type": "markdown",
   "metadata": {},
   "source": [
    "And we can open and show the image to confirm that it's been saved"
   ]
  },
  {
   "cell_type": "code",
   "execution_count": 6,
   "metadata": {},
   "outputs": [
    {
     "data": {
      "text/plain": [
       "<matplotlib.image.AxesImage at 0x7f70d211c810>"
      ]
     },
     "execution_count": 6,
     "metadata": {},
     "output_type": "execute_result"
    },
    {
     "data": {
      "image/png": "[encoded data removed]",
      "text/plain": [
       "<Figure size 432x288 with 1 Axes>"
      ]
     },
     "metadata": {
      "needs_background": "light"
     },
     "output_type": "display_data"
    }
   ],
   "source": [
    "img = mpimg.imread(os.path.join(workspace, \"test_image.png\"))\n",
    "plt.imshow(img, interpolation=\"None\", cmap='gray')"
   ]
  },
  {
   "cell_type": "markdown",
   "metadata": {},
   "source": [
    "This covers the basic functionality of the PShpere module"
   ]
  },
  {
   "cell_type": "code",
   "execution_count": null,
   "metadata": {},
   "outputs": [],
   "source": []
  }
 ],
 "metadata": {
  "kernelspec": {
   "display_name": "Python 2",
   "language": "python",
   "name": "python2"
  },
  "language_info": {
   "codemirror_mode": {
    "name": "ipython",
    "version": 2
   },
   "file_extension": ".py",
   "mimetype": "text/x-python",
   "name": "python",
   "nbconvert_exporter": "python",
   "pygments_lexer": "ipython2",
   "version": "2.7.12"
  }
 },
 "nbformat": 4,
 "nbformat_minor": 1
}
