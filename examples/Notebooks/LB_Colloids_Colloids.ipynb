{
 "cells": [
  {
   "cell_type": "markdown",
   "metadata": {
    "collapsed": true
   },
   "source": [
    "# LB-Colloids Colloid particle tracking\n",
    "\n",
    "LB-Colloids allows the user to perform colloid and nanoparticle tracking simulations on Computational Fluid Dynamics domains. As the user, you supply the chemical and physical properties, and the code performs the mathematics and particle tracking!\n",
    "\n",
    "Let's set up our workspace to begin. And we will use the Synthetic5 example problem to parameterize run LB-Colloids"
   ]
  },
  {
   "cell_type": "code",
   "execution_count": 1,
   "metadata": {},
   "outputs": [],
   "source": [
    "%matplotlib inline\n",
    "import matplotlib.pyplot as plt\n",
    "import matplotlib.image as mpimg\n",
    "import os\n",
    "from lb_colloids import LBImage, LB2DModel\n",
    "from lb_colloids import ColloidModel, cIO\n",
    "\n",
    "workspace = os.path.join(\"..\", \"data\")\n",
    "domain = \"Synth100_5.png\"\n",
    "lb_name = \"s5.hdf5\"\n",
    "endpoint = \"s5.endpoint\""
   ]
  },
  {
   "cell_type": "markdown",
   "metadata": {},
   "source": [
    "First thing, let's run a lattice Boltzmann model to get our fluid domain. For more details see the LB2D Notebook."
   ]
  },
  {
   "cell_type": "code",
   "execution_count": 2,
   "metadata": {},
   "outputs": [
    {
     "name": "stdout",
     "output_type": "stream",
     "text": [
      "('Porosity: ', 0.5658)\n",
      "1000\n",
      "Iter: 01000\n",
      "[Writing to: ../data/s5.hdf5]\n"
     ]
    },
    {
     "data": {
      "text/plain": [
       "array([[[ 0.11111111,  0.10675743,  0.10675767, ...,  0.10688719,\n",
       "          0.10687231,  0.1068638 ],\n",
       "        [ 0.11111111,  0.10643739,  0.10643744, ...,  0.10655803,\n",
       "          0.10654706,  0.10654117],\n",
       "        [ 0.11111111,  0.10611816,  0.10611812, ...,  0.10622977,\n",
       "          0.10622256,  0.10621928],\n",
       "        ..., \n",
       "        [ 0.11111111,  0.10772268,  0.10772394, ...,  0.10788608,\n",
       "          0.10785408,  0.10783406],\n",
       "        [ 0.11111111,  0.10740005,  0.10740089, ...,  0.10755076,\n",
       "          0.10752572,  0.10751049],\n",
       "        [ 0.11111111,  0.10707831,  0.10707881, ...,  0.10721789,\n",
       "          0.10719848,  0.10718698]],\n",
       "\n",
       "       [[ 0.02777778,  0.02673248,  0.02672616, ...,  0.02675012,\n",
       "          0.02675083,  0.02675386],\n",
       "        [ 0.02777778,  0.0266519 ,  0.02664637, ...,  0.02667237,\n",
       "          0.02667324,  0.02667478],\n",
       "        [ 0.02777778,  0.0265715 ,  0.02656687, ...,  0.02659396,\n",
       "          0.02659484,  0.02659535],\n",
       "        ..., \n",
       "        [ 0.02777778,  0.02697495,  0.02696769, ...,  0.02697816,\n",
       "          0.02697655,  0.02698706],\n",
       "        [ 0.02777778,  0.02689403,  0.02688678, ...,  0.02690322,\n",
       "          0.02690282,  0.0269103 ],\n",
       "        [ 0.02777778,  0.0268132 ,  0.02680628, ...,  0.02682712,\n",
       "          0.02682745,  0.02683244]],\n",
       "\n",
       "       [[ 0.11111111,  0.10690417,  0.10687494, ...,  0.10698713,\n",
       "          0.10701256,  0.11111111],\n",
       "        [ 0.11111111,  0.10658515,  0.10655861, ...,  0.10668096,\n",
       "          0.10669699,  0.11111111],\n",
       "        [ 0.11111111,  0.10626727,  0.10624388, ...,  0.10637104,\n",
       "          0.10637994,  0.11111111],\n",
       "        ..., \n",
       "        [ 0.11111111,  0.10786964,  0.1078372 , ...,  0.10786956,\n",
       "          0.10794151,  0.11111111],\n",
       "        [ 0.11111111,  0.10754627,  0.10751388, ...,  0.10758331,\n",
       "          0.10763614,  0.11111111],\n",
       "        [ 0.11111111,  0.10722449,  0.10719325, ...,  0.10728845,\n",
       "          0.10732596,  0.11111111]],\n",
       "\n",
       "       ..., \n",
       "       [[ 0.11111111,  0.10660743,  0.10662989, ...,  0.10670665,\n",
       "          0.10669975,  0.11111111],\n",
       "        [ 0.11111111,  0.10628574,  0.10630466, ...,  0.1063778 ,\n",
       "          0.10637543,  0.11111111],\n",
       "        [ 0.11111111,  0.10596487,  0.10598017, ...,  0.10605366,\n",
       "          0.10605396,  0.11111111],\n",
       "        ..., \n",
       "        [ 0.11111111,  0.10757629,  0.10760724, ...,  0.10772061,\n",
       "          0.1076877 ,  0.11111111],\n",
       "        [ 0.11111111,  0.1072528 ,  0.10728148, ...,  0.10737778,\n",
       "          0.10735592,  0.11111111],\n",
       "        [ 0.11111111,  0.10692981,  0.10695559, ...,  0.10703994,\n",
       "          0.10702664,  0.11111111]],\n",
       "\n",
       "       [[ 0.02777778,  0.0266463 ,  0.02665192, ...,  0.02668514,\n",
       "          0.02667875,  0.0266753 ],\n",
       "        [ 0.02777778,  0.02656686,  0.02657148, ...,  0.0266001 ,\n",
       "          0.02659564,  0.02659406],\n",
       "        [ 0.02777778,  0.02648765,  0.02649126, ...,  0.02651615,\n",
       "          0.02651371,  0.02651353],\n",
       "        ..., \n",
       "        [ 0.02777778,  0.02688646,  0.02689424, ...,  0.02694839,\n",
       "          0.02693551,  0.02692288],\n",
       "        [ 0.02777778,  0.02680607,  0.02681332, ...,  0.02685895,\n",
       "          0.0268485 ,  0.0268397 ],\n",
       "        [ 0.02777778,  0.02672603,  0.02673254, ...,  0.02677132,\n",
       "          0.02676299,  0.02675719]],\n",
       "\n",
       "       [[ 0.44444445,  0.4270294 ,  0.42702767, ...,  0.42744118,\n",
       "          0.42744675,  0.44444445],\n",
       "        [ 0.44444445,  0.42574885,  0.42574683, ...,  0.42615485,\n",
       "          0.42615891,  0.44444445],\n",
       "        [ 0.44444445,  0.42447174,  0.42446962, ...,  0.42487121,\n",
       "          0.42487401,  0.44444445],\n",
       "        ..., \n",
       "        [ 0.44444445,  0.43089235,  0.43089208, ...,  0.43130407,\n",
       "          0.43131602,  0.44444445],\n",
       "        [ 0.44444445,  0.42960101,  0.42960015, ...,  0.43001723,\n",
       "          0.43002668,  0.44444445],\n",
       "        [ 0.44444445,  0.4283134 ,  0.42831206, ...,  0.42872912,\n",
       "          0.42873642,  0.44444445]]], dtype=float32)"
      ]
     },
     "execution_count": 2,
     "metadata": {},
     "output_type": "execute_result"
    }
   ],
   "source": [
    "lbi = LBImage.Images(os.path.join(workspace, domain))\n",
    "bc = LBImage.BoundaryCondition(lbi.arr, fluidvx=[253], solidvx=[0], nlayers=5)\n",
    "lbm = LB2DModel(bc.binarized)\n",
    "lbm.niters = 1000\n",
    "lbm.run(output=os.path.join(workspace, lb_name), verbose=1000)"
   ]
  },
  {
   "cell_type": "markdown",
   "metadata": {},
   "source": [
    "## Setting up a Colloids particle tracking model\n",
    "\n",
    "We can begin setting up a Colloids model by using the `ColloidsConfig()` class. This class ensures that valid values are supplied to particle tracking variables and allows the user to write an external particle tracking configuration file for documentation and later use if wanted.\n",
    "\n",
    "Let's generate an empty `ColloidsConfig` instance\n",
    "\n"
   ]
  },
  {
   "cell_type": "code",
   "execution_count": 3,
   "metadata": {},
   "outputs": [],
   "source": [
    "io = cIO.ColloidsConfig()"
   ]
  },
  {
   "cell_type": "markdown",
   "metadata": {},
   "source": [
    "`ColloidsConfig()` uses dictionary keys to be parameterized. Common parameterization variables include\n",
    "\n",
    "`lbmodel`: required parameter that points to the CFD fluid domain\n",
    "\n",
    "`ncols`: required parameter that describes the number of colloids released\n",
    "\n",
    "`iters`: number of time steps to simulate transport\n",
    "\n",
    "`lbres`: the lattice Boltzmann simulation resolution in meters\n",
    "\n",
    "`gridref`: optional grid refinement parameter, uses bi-linear interpolation\n",
    "\n",
    "`ac`: colloid radius in meters\n",
    "\n",
    "`timestep`: the timestep length in seconds. Recommend very small timesteps!\n",
    "\n",
    "`continuous`: flag for continuous release. If 0 one release of colloids occurs, if > 0 a release of colloids occurs at continuous number of timesteps\n",
    "\n",
    "`i`: fluid ionic strength in M\n",
    "\n",
    "`print_time`: how often iteration progress prints to the screen\n",
    "\n",
    "`endpoint`: endpoint file name to store breakthrough information\n",
    "\n",
    "`store_time`: internal function that can be used to reduce memory requirements, a higher store_time equals less memory devoted to storing colloid positions (old positions are striped every store_time timesteps).\n",
    "\n",
    "`zeta_colloid`: zeta potential of the colloid in V\n",
    "\n",
    "`zeta_solid`: zeta potential of the solid in V\n",
    "\n",
    "`plot`: boolean flag that generates a plot at the end of the model run\n",
    "\n",
    "`showfig`: boolean flag that determines weather to show the figure or save it to disk\n",
    "\n",
    "A complete listing of these are available in the user guide."
   ]
  },
  {
   "cell_type": "code",
   "execution_count": 4,
   "metadata": {},
   "outputs": [],
   "source": [
    "# model parameters\n",
    "io[\"lbmodel\"] = os.path.join(workspace, lb_name)\n",
    "io['ncols'] = 2000\n",
    "io['iters'] = 50000\n",
    "io['lbres'] = 1e-6\n",
    "io['gridref'] = 10\n",
    "io['ac'] = 1e-06\n",
    "io['timestep'] = 1e-06  # should be less than or equal to colloid radius!\n",
    "io['continuous'] = 0\n",
    "\n",
    "# chemical parameters\n",
    "io['i'] = 1e-03  # Molar ionic strength of solution\n",
    "io['zeta_colloid'] = -49.11e-3  # zeta potential of Na-Kaolinite at 1e-03 M NaCl\n",
    "io['zeta_solid'] = -61.76e-3  # zeta potential of Glass Beads at 1e-03 M NaCl\n",
    "\n",
    "# output control\n",
    "io['print_time'] = 10000\n",
    "io['endpoint'] = os.path.join(workspace, endpoint)\n",
    "io['store_time'] = 100\n",
    "io['plot'] = True\n",
    "io['showfig'] = True"
   ]
  },
  {
   "cell_type": "markdown",
   "metadata": {},
   "source": [
    "We can now look at the parameter dictionaries  `ColloidConfig` creates!"
   ]
  },
  {
   "cell_type": "code",
   "execution_count": 5,
   "metadata": {},
   "outputs": [
    {
     "data": {
      "text/plain": [
       "({'AC': 1e-06,\n",
       "  'CONTINUOUS': 0,\n",
       "  'GRIDREF': 10.0,\n",
       "  'ITERS': 50000,\n",
       "  'LBMODEL': '../data/s5.hdf5',\n",
       "  'LBRES': 1e-06,\n",
       "  'NCOLS': 2000,\n",
       "  'TIMESTEP': 1e-06},\n",
       " {'I': 0.001, 'ZETA_COLLOID': -0.04911, 'ZETA_SOLID': -0.06176},\n",
       " {},\n",
       " {'ENDPOINT': '../data/s5.endpoint',\n",
       "  'PLOT': True,\n",
       "  'PRINT_TIME': 10000,\n",
       "  'SHOWFIG': True,\n",
       "  'STORE_TIME': 100})"
      ]
     },
     "execution_count": 5,
     "metadata": {},
     "output_type": "execute_result"
    }
   ],
   "source": [
    "io.model_parameters, io.chemical_parameters, io.physical_parameters, io.output_control_parameters"
   ]
  },
  {
   "cell_type": "markdown",
   "metadata": {},
   "source": [
    "we can also write a config file for documentation and later runs! And see the information that will be written to the config file by using the `io.config` call"
   ]
  },
  {
   "cell_type": "code",
   "execution_count": 6,
   "metadata": {},
   "outputs": [
    {
     "data": {
      "text/plain": [
       "['START MODEL PARAMETERS\\n',\n",
       " 'AC: 1e-06\\n',\n",
       " 'NCOLS: 2000\\n',\n",
       " 'ITERS: 50000\\n',\n",
       " 'TIMESTEP: 1e-06\\n',\n",
       " 'CONTINUOUS: 0\\n',\n",
       " 'GRIDREF: 10.0\\n',\n",
       " 'LBMODEL: ../data/s5.hdf5\\n',\n",
       " 'LBRES: 1e-06\\n',\n",
       " 'END MODEL PARAMETERS\\n\\n',\n",
       " 'START PHYSICAL PARAMETERS\\n',\n",
       " 'END PHYSICAL PARAMETERS\\n\\n',\n",
       " 'START CHEMICAL PARAMETERS\\n',\n",
       " 'ZETA_COLLOID: -0.04911\\n',\n",
       " 'I: 0.001\\n',\n",
       " 'ZETA_SOLID: -0.06176\\n',\n",
       " 'END CHEMICAL PARAMETERS\\n\\n',\n",
       " 'START OUTPUT CONTROL\\n',\n",
       " 'ENDPOINT: ../data/s5.endpoint\\n',\n",
       " 'PRINT_TIME: 10000\\n',\n",
       " 'SHOWFIG: True\\n',\n",
       " 'PLOT: True\\n',\n",
       " 'STORE_TIME: 100\\n',\n",
       " 'END OUTPUT CONTROL\\n\\n',\n",
       " 'START MODEL PARAMETERS\\n',\n",
       " 'AC: 1e-06\\n',\n",
       " 'NCOLS: 2000\\n',\n",
       " 'ITERS: 50000\\n',\n",
       " 'TIMESTEP: 1e-06\\n',\n",
       " 'CONTINUOUS: 0\\n',\n",
       " 'GRIDREF: 10.0\\n',\n",
       " 'LBMODEL: ../data/s5.hdf5\\n',\n",
       " 'LBRES: 1e-06\\n',\n",
       " 'END MODEL PARAMETERS\\n\\n',\n",
       " 'START PHYSICAL PARAMETERS\\n',\n",
       " 'END PHYSICAL PARAMETERS\\n\\n',\n",
       " 'START CHEMICAL PARAMETERS\\n',\n",
       " 'ZETA_COLLOID: -0.04911\\n',\n",
       " 'I: 0.001\\n',\n",
       " 'ZETA_SOLID: -0.06176\\n',\n",
       " 'END CHEMICAL PARAMETERS\\n\\n',\n",
       " 'START OUTPUT CONTROL\\n',\n",
       " 'ENDPOINT: ../data/s5.endpoint\\n',\n",
       " 'PRINT_TIME: 10000\\n',\n",
       " 'SHOWFIG: True\\n',\n",
       " 'PLOT: True\\n',\n",
       " 'STORE_TIME: 100\\n',\n",
       " 'END OUTPUT CONTROL\\n\\n']"
      ]
     },
     "execution_count": 6,
     "metadata": {},
     "output_type": "execute_result"
    }
   ],
   "source": [
    "io.write(os.path.join(workspace, \"s2.config\"))\n",
    "io.config"
   ]
  },
  {
   "cell_type": "markdown",
   "metadata": {},
   "source": [
    "the `ColloidsConfig` can be directly be used with the `Config` reader to instanstiate a LB-Colloids model"
   ]
  },
  {
   "cell_type": "code",
   "execution_count": 7,
   "metadata": {},
   "outputs": [],
   "source": [
    "config = cIO.Config(io.config)"
   ]
  },
  {
   "cell_type": "markdown",
   "metadata": {},
   "source": [
    "and we can run the model using the `ColloidModel.run()` call"
   ]
  },
  {
   "cell_type": "code",
   "execution_count": 8,
   "metadata": {},
   "outputs": [
    {
     "name": "stdout",
     "output_type": "stream",
     "text": [
      "2000\n",
      "(110, 102)\n",
      "(110, 102)\n",
      "(10000, '0.010')\n",
      "(20000, '0.020')\n",
      "(30000, '0.030')\n",
      "(40000, '0.040')\n",
      "(50000, '0.050')\n"
     ]
    },
    {
     "data": {
      "image/png": "[encoded data removed]",
      "text/plain": [
       "<Figure size 432x288 with 2 Axes>"
      ]
     },
     "metadata": {
      "needs_background": "light"
     },
     "output_type": "display_data"
    }
   ],
   "source": [
    "ColloidModel.run(config)"
   ]
  },
  {
   "cell_type": "markdown",
   "metadata": {},
   "source": [
    "The output image shows the path of colloids which were immobilized in the model!\n",
    "\n",
    "### For ColloidModel outputs please see the LB_Colloids_output_contol notebook"
   ]
  },
  {
   "cell_type": "code",
   "execution_count": null,
   "metadata": {},
   "outputs": [],
   "source": []
  }
 ],
 "metadata": {
  "kernelspec": {
   "display_name": "Python 2",
   "language": "python",
   "name": "python2"
  },
  "language_info": {
   "codemirror_mode": {
    "name": "ipython",
    "version": 2
   },
   "file_extension": ".py",
   "mimetype": "text/x-python",
   "name": "python",
   "nbconvert_exporter": "python",
   "pygments_lexer": "ipython2",
   "version": "2.7.12"
  }
 },
 "nbformat": 4,
 "nbformat_minor": 1
}
